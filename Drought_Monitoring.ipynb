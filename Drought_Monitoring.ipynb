{
 "cells": [
  {
   "cell_type": "code",
   "execution_count": 1,
   "id": "b1934ac8",
   "metadata": {},
   "outputs": [
    {
     "data": {
      "text/plain": [
       "True"
      ]
     },
     "execution_count": 1,
     "metadata": {},
     "output_type": "execute_result"
    }
   ],
   "source": [
    "import ee\n",
    "\n",
    "# Clear credentials\n",
    "ee.Authenticate()\n"
   ]
  },
  {
   "cell_type": "code",
   "execution_count": 2,
   "id": "9ac3810b",
   "metadata": {},
   "outputs": [],
   "source": [
    "ee.Initialize()\n"
   ]
  },
  {
   "cell_type": "code",
   "execution_count": 3,
   "id": "5e4bc3a4",
   "metadata": {},
   "outputs": [
    {
     "name": "stderr",
     "output_type": "stream",
     "text": [
      "C:\\Users\\91954\\anaconda3\\lib\\site-packages\\pandas\\core\\arrays\\masked.py:60: UserWarning: Pandas requires version '1.3.6' or newer of 'bottleneck' (version '1.3.5' currently installed).\n",
      "  from pandas.core import (\n"
     ]
    },
    {
     "name": "stdout",
     "output_type": "stream",
     "text": [
      "529 Total number of NDVI Images\n"
     ]
    },
    {
     "data": {
      "application/vnd.jupyter.widget-view+json": {
       "model_id": "0dd8ca9fffd14bb6a16c220cb746142b",
       "version_major": 2,
       "version_minor": 0
      },
      "text/plain": [
       "Map(center=[8.608436183893986, 77.01503663739864], controls=(WidgetControl(options=['position', 'transparent_b…"
      ]
     },
     "execution_count": 3,
     "metadata": {},
     "output_type": "execute_result"
    }
   ],
   "source": [
    "import ee\n",
    "import geemap\n",
    "\n",
    "# Function to add a legend to the map\n",
    "def add_legend_with_title(m, legend_title, legend_keys, legend_labels, legend_colors, position='bottomleft'):\n",
    "    legend_dict = dict(zip(legend_keys, zip(legend_labels, legend_colors)))\n",
    "    legend_html = f'<div style=\"text-align: left;\"><strong>{legend_title}</strong></div><br>' + '<br>'.join([\n",
    "        f'<span style=\"color: #{color}\">{label} ({key})</span>' \n",
    "        for key, (label, color) in legend_dict.items()\n",
    "    ])\n",
    "    m.add_legend(legend_html, position=position)\n",
    "\n",
    "# Initialize Earth Engine\n",
    "ee.Initialize()\n",
    "\n",
    "# Region of interest (Thiruvananthapuram district)\n",
    "aoi = ee.FeatureCollection(\"projects/ee-prachoddileep/assets/Thiruvananthapuram1\")\n",
    "\n",
    "# MODIS NDVI data\n",
    "dataset = ee.ImageCollection('MODIS/006/MOD13Q1') \\\n",
    "    .select('NDVI') \\\n",
    "    .filterBounds(aoi)\n",
    "\n",
    "print(dataset.size().getInfo(), \"Total number of NDVI Images\")\n",
    "\n",
    "# MODIS NDVI values come as NDVI x 10000 that need to be scaled by 0.0001\n",
    "modisScaled = dataset.map(lambda image: image.divide(10000)\n",
    "                          .copyProperties(image, ['system:index', 'system:time_start']))\n",
    "\n",
    "# Months for which we require VCI\n",
    "start_month = 1  # January\n",
    "end_month = 1    # January\n",
    "\n",
    "# Max and Min NDVI for all years but for the selected month\n",
    "ndvi = modisScaled.filter(ee.Filter.calendarRange(start_month, end_month, 'month'))\n",
    "\n",
    "# Add NDVI layers to the map\n",
    "ndvi_max = ndvi.max().clip(aoi)\n",
    "ndvi_min = ndvi.min().clip(aoi)\n",
    "\n",
    "# Display NDVI_max and NDVI_min\n",
    "m = geemap.Map()\n",
    "m.centerObject(aoi, 8)\n",
    "m.addLayer(ndvi_max, {}, 'NDVI_max', 0)\n",
    "m.addLayer(ndvi_min, {}, 'NDVI_min', 0)\n",
    "\n",
    "# Loop through years\n",
    "for year in range(2007, 2013):  # Update the range as needed\n",
    "    # NDVI for the specified month and year (mean instead of median)\n",
    "    ndviT = modisScaled.filter(ee.Filter.calendarRange(year, year, 'year')) \\\n",
    "        .filter(ee.Filter.calendarRange(start_month, end_month, 'month')) \\\n",
    "        .mean() \\\n",
    "        .clip(aoi)\n",
    "\n",
    "    # Display NDVIT layer\n",
    "    m.addLayer(ndviT, {}, f'NDVIT_{year}', 0)\n",
    "\n",
    "    # Final calculation of VCI for specified month & year\n",
    "    VCI = ndviT.subtract(ndvi_min).divide(ndvi_max.subtract(ndvi_min)).rename('VCI')\n",
    "\n",
    "    # Visualization parameters for VCI layer (customize the palette)\n",
    "    VCIviz_custom = {'min': 0, 'max': 1, 'palette': ['FF0000', 'FFFF00', '00FF00', '0000FF']}\n",
    "    \n",
    "    # Add VCI layer to the map with customized visualization parameters\n",
    "    m.addLayer(VCI, VCIviz_custom, f'VCI_{year}', 1)\n",
    "\n",
    "# Add custom legend with title\n",
    "legend_title = 'Drought Condition'\n",
    "legend_keys = ['0-0.25', '0.25-0.5', '0.5-0.75', '0.75-1.0']\n",
    "legend_labels = ['High', 'Moderate', 'Low', 'Very Low']\n",
    "legend_colors = ['FF0000', 'FFFF00', '00FF00', '0000FF']\n",
    "add_legend_with_title(m, legend_title, legend_keys, legend_labels, legend_colors, position='bottomleft')\n",
    "\n",
    "# All VCI at once\n",
    "def compute_vci(img):\n",
    "    img = img.clip(aoi)\n",
    "    date = ee.Date(img.get('system:time_start'))\n",
    "    month = date.get('month')\n",
    "    dataset2 = modisScaled.filter(ee.Filter.calendarRange(month, month, 'month'))\n",
    "    NDVI_min = dataset2.min()\n",
    "    NDVI_max = dataset2.max()\n",
    "    VCI = img.subtract(NDVI_min).divide(NDVI_max.subtract(NDVI_min)).rename('VCI') \\\n",
    "        .copyProperties(img, ['system:time_start'])\n",
    "    return VCI\n",
    "\n",
    "modVCI = modisScaled.map(compute_vci)\n",
    "\n",
    "# Add VCI_IC layer to the map with the same visualization parameters\n",
    "m.addLayer(modVCI, VCIviz_custom, 'VCI_IC', 1)\n",
    "\n",
    "# Add layer control\n",
    "m.add_layer_control()\n",
    "\n",
    "# Center the map on the region of interest\n",
    "m.centerObject(aoi, 8)\n",
    "\n",
    "# Save the map as an HTML file\n",
    "output_html = r\"D:\\Drought Project\\map123\\output_map.html\"\n",
    "m.save(outfile=output_html)\n",
    "\n",
    "# Display the map\n",
    "m\n"
   ]
  },
  {
   "cell_type": "code",
   "execution_count": 4,
   "id": "cee71142",
   "metadata": {},
   "outputs": [
    {
     "data": {
      "text/html": [
       "\n",
       "            <style>\n",
       "                .geemap-dark {\n",
       "                    --jp-widgets-color: white;\n",
       "                    --jp-widgets-label-color: white;\n",
       "                    --jp-ui-font-color1: white;\n",
       "                    --jp-layout-color2: #454545;\n",
       "                    background-color: #383838;\n",
       "                }\n",
       "                    \n",
       "                .geemap-dark .jupyter-button {\n",
       "                    --jp-layout-color3: #383838;\n",
       "                }\n",
       "                \n",
       "                .geemap-colab {\n",
       "                    background-color: var(--colab-primary-surface-color, white);\n",
       "                }\n",
       "                    \n",
       "                .geemap-colab .jupyter-button {\n",
       "                    --jp-layout-color3: var(--colab-primary-surface-color, white);\n",
       "                }\n",
       "            </style>\n",
       "            "
      ],
      "text/plain": [
       "<IPython.core.display.HTML object>"
      ]
     },
     "metadata": {},
     "output_type": "display_data"
    },
    {
     "name": "stdout",
     "output_type": "stream",
     "text": [
      "Month 1: 46 NDVI Images\n",
      "Month 2: 46 NDVI Images\n",
      "Month 3: 46 NDVI Images\n",
      "Month 4: 46 NDVI Images\n",
      "Month 5: 46 NDVI Images\n",
      "Month 6: 46 NDVI Images\n",
      "Month 7: 46 NDVI Images\n",
      "Month 8: 46 NDVI Images\n",
      "Month 9: 46 NDVI Images\n",
      "Month 10: 29 NDVI Images\n",
      "Month 11: 40 NDVI Images\n",
      "Month 12: 46 NDVI Images\n"
     ]
    }
   ],
   "source": [
    "import ee\n",
    "\n",
    "# Initialize Earth Engine\n",
    "ee.Initialize()\n",
    "\n",
    "# Region of interest (Bundelkhand district)\n",
    "aoi = ee.FeatureCollection(\"projects/ee-prachoddileep/assets/Thiruvananthapuram1\")\n",
    "\n",
    "# MODIS NDVI data\n",
    "dataset = ee.ImageCollection('MODIS/006/MOD13Q1') \\\n",
    "    .select('NDVI') \\\n",
    "    .filterBounds(aoi)\n",
    "\n",
    "# Create a list to store the number of images for each month\n",
    "images_per_month = []\n",
    "\n",
    "# Loop through each month\n",
    "for month in range(1, 13):  # January to December\n",
    "    # Filter dataset for the current month\n",
    "    ndvi_month = dataset.filter(ee.Filter.calendarRange(month, month, 'month'))\n",
    "    \n",
    "    # Get the size of the filtered dataset and append it to the list\n",
    "    images_per_month.append(ndvi_month.size().getInfo())\n",
    "\n",
    "# Print the number of NDVI images for each month\n",
    "for i, count in enumerate(images_per_month, start=1):\n",
    "    print(f\"Month {i}: {count} NDVI Images\")\n"
   ]
  },
  {
   "cell_type": "code",
   "execution_count": 7,
   "id": "ede38c44-159c-49f2-9ec7-71be77251ce3",
   "metadata": {},
   "outputs": [
    {
     "data": {
      "text/html": [
       "\n",
       "            <style>\n",
       "                .geemap-dark {\n",
       "                    --jp-widgets-color: white;\n",
       "                    --jp-widgets-label-color: white;\n",
       "                    --jp-ui-font-color1: white;\n",
       "                    --jp-layout-color2: #454545;\n",
       "                    background-color: #383838;\n",
       "                }\n",
       "                    \n",
       "                .geemap-dark .jupyter-button {\n",
       "                    --jp-layout-color3: #383838;\n",
       "                }\n",
       "                \n",
       "                .geemap-colab {\n",
       "                    background-color: var(--colab-primary-surface-color, white);\n",
       "                }\n",
       "                    \n",
       "                .geemap-colab .jupyter-button {\n",
       "                    --jp-layout-color3: var(--colab-primary-surface-color, white);\n",
       "                }\n",
       "            </style>\n",
       "            "
      ],
      "text/plain": [
       "<IPython.core.display.HTML object>"
      ]
     },
     "metadata": {},
     "output_type": "display_data"
    },
    {
     "name": "stdout",
     "output_type": "stream",
     "text": [
      "529 Total number of NDVI Images\n"
     ]
    },
    {
     "data": {
      "application/vnd.jupyter.widget-view+json": {
       "model_id": "27420c06417d4ef9bb8fafd9439076a9",
       "version_major": 2,
       "version_minor": 0
      },
      "text/plain": [
       "Map(center=[8.608436183893986, 77.01503663739864], controls=(WidgetControl(options=['position', 'transparent_b…"
      ]
     },
     "execution_count": 7,
     "metadata": {},
     "output_type": "execute_result"
    }
   ],
   "source": [
    "import ee\n",
    "import geemap\n",
    "\n",
    "# Function to add a legend to the map\n",
    "def add_legend_with_title(m, legend_title, legend_keys, legend_labels, legend_colors, position='bottomleft'):\n",
    "    legend_dict = dict(zip(legend_keys, zip(legend_labels, legend_colors)))\n",
    "    legend_html = f'<div style=\"text-align: left;\"><strong>{legend_title}</strong></div><br>' + '<br>'.join([\n",
    "        f'<span style=\"color: #{color}\">{label} ({key})</span>' \n",
    "        for key, (label, color) in legend_dict.items()\n",
    "    ])\n",
    "    m.add_legend(legend_html, position=position)\n",
    "\n",
    "# Initialize Earth Engine\n",
    "ee.Initialize()\n",
    "\n",
    "# Region of interest (Thiruvananthapuram district)\n",
    "aoi = ee.FeatureCollection(\"projects/ee-prachoddileep/assets/Thiruvananthapuram1\")\n",
    "\n",
    "# MODIS NDVI data\n",
    "dataset = ee.ImageCollection('MODIS/006/MOD13Q1') \\\n",
    "    .select('NDVI') \\\n",
    "    .filterBounds(aoi)\n",
    "\n",
    "print(dataset.size().getInfo(), \"Total number of NDVI Images\")\n",
    "\n",
    "# MODIS NDVI values come as NDVI x 10000 that need to be scaled by 0.0001\n",
    "modisScaled = dataset.map(lambda image: image.divide(10000)\n",
    "                          .copyProperties(image, ['system:index', 'system:time_start']))\n",
    "\n",
    "# Months for which we require VCI\n",
    "start_month = 1  # January\n",
    "end_month = 12   # December\n",
    "\n",
    "# Filter data for the year 2022\n",
    "ndvi_2022 = modisScaled.filter(ee.Filter.calendarRange(2022, 2022, 'year'))\n",
    "\n",
    "# Add NDVI layers to the map for each month of 2022\n",
    "m = geemap.Map()\n",
    "m.centerObject(aoi, 8)\n",
    "\n",
    "# Loop through all months\n",
    "for month in range(1, 13):  # January to December\n",
    "    # NDVI for the specified month and year (mean instead of median)\n",
    "    ndviT = ndvi_2022.filter(ee.Filter.calendarRange(month, month, 'month')) \\\n",
    "        .mean() \\\n",
    "        .clip(aoi)\n",
    "\n",
    "    # Display NDVIT layer\n",
    "    m.addLayer(ndviT, {}, f'NDVIT_{month}', 0)\n",
    "\n",
    "    # Final calculation of VCI for specified month & year\n",
    "    ndvi_min = modisScaled.filter(ee.Filter.calendarRange(month, month, 'month')).min()\n",
    "    ndvi_max = modisScaled.filter(ee.Filter.calendarRange(month, month, 'month')).max()\n",
    "    VCI = ndviT.subtract(ndvi_min).divide(ndvi_max.subtract(ndvi_min)).rename('VCI')\n",
    "\n",
    "    # Visualization parameters for VCI layer (customize the palette)\n",
    "    VCIviz_custom = {'min': 0, 'max': 1, 'palette': ['FF0000', 'FFFF00', '00FF00', '0000FF']}\n",
    "    \n",
    "    # Add VCI layer to the map with customized visualization parameters\n",
    "    m.addLayer(VCI, VCIviz_custom, f'VCI_{month}', 1)\n",
    "\n",
    "# Add custom legend with title\n",
    "legend_title = 'Drought Condition'\n",
    "legend_keys = ['0-0.25', '0.25-0.5', '0.5-0.75', '0.75-1.0']\n",
    "legend_labels = ['High', 'Moderate', 'Low', 'Very Low']\n",
    "legend_colors = ['FF0000', 'FFFF00', '00FF00', '0000FF']\n",
    "add_legend_with_title(m, legend_title, legend_keys, legend_labels, legend_colors, position='bottomleft')\n",
    "\n",
    "# Add layer control\n",
    "m.add_layer_control()\n",
    "\n",
    "# Save the map as an HTML file\n",
    "output_html = r\"D:\\Drought Project\\map123\\output_map_2022.html\"\n",
    "m.save(outfile=output_html)\n",
    "\n",
    "# Display the map\n",
    "m\n"
   ]
  },
  {
   "cell_type": "code",
   "execution_count": null,
   "id": "5e2e3fd6-4c94-4f33-a3d5-e6681e8c3c65",
   "metadata": {},
   "outputs": [],
   "source": []
  }
 ],
 "metadata": {
  "kernelspec": {
   "display_name": "Python 3 (ipykernel)",
   "language": "python",
   "name": "python3"
  },
  "language_info": {
   "codemirror_mode": {
    "name": "ipython",
    "version": 3
   },
   "file_extension": ".py",
   "mimetype": "text/x-python",
   "name": "python",
   "nbconvert_exporter": "python",
   "pygments_lexer": "ipython3",
   "version": "3.9.18"
  }
 },
 "nbformat": 4,
 "nbformat_minor": 5
}
